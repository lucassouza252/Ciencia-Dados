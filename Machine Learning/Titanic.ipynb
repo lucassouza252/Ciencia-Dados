{
 "cells": [
  {
   "cell_type": "markdown",
   "id": "7986f047",
   "metadata": {},
   "source": [
    "## Titanic Competition - Kaggle\n",
    "\n",
    "The propouse of this notebook is study the titanic dataset and create a Machine Learning model to predict survivors on titanic."
   ]
  },
  {
   "cell_type": "code",
   "execution_count": 130,
   "id": "37f874b1",
   "metadata": {},
   "outputs": [],
   "source": [
    "# Librarys\n",
    "import pandas as pd\n",
    "import numpy as np\n",
    "import matplotlib.pyplot as plt\n",
    "import seaborn as sns\n",
    "from sklearn.model_selection import train_test_split\n",
    "from sklearn.linear_model import LogisticRegression\n",
    "from sklearn.model_selection import cross_val_score\n",
    "from sklearn.tree import DecisionTreeClassifier\n",
    "from sklearn.metrics import accuracy_score"
   ]
  },
  {
   "cell_type": "code",
   "execution_count": 131,
   "id": "8632182e",
   "metadata": {},
   "outputs": [
    {
     "data": {
      "text/plain": [
       "(891, 12)"
      ]
     },
     "execution_count": 131,
     "metadata": {},
     "output_type": "execute_result"
    }
   ],
   "source": [
    "# Data Load\n",
    "data = pd.read_csv(\"train.csv\")\n",
    "data.shape"
   ]
  },
  {
   "cell_type": "code",
   "execution_count": 132,
   "id": "cef8b6ec",
   "metadata": {},
   "outputs": [
    {
     "data": {
      "text/html": [
       "<div>\n",
       "<style scoped>\n",
       "    .dataframe tbody tr th:only-of-type {\n",
       "        vertical-align: middle;\n",
       "    }\n",
       "\n",
       "    .dataframe tbody tr th {\n",
       "        vertical-align: top;\n",
       "    }\n",
       "\n",
       "    .dataframe thead th {\n",
       "        text-align: right;\n",
       "    }\n",
       "</style>\n",
       "<table border=\"1\" class=\"dataframe\">\n",
       "  <thead>\n",
       "    <tr style=\"text-align: right;\">\n",
       "      <th></th>\n",
       "      <th>PassengerId</th>\n",
       "      <th>Survived</th>\n",
       "      <th>Pclass</th>\n",
       "      <th>Name</th>\n",
       "      <th>Sex</th>\n",
       "      <th>Age</th>\n",
       "      <th>SibSp</th>\n",
       "      <th>Parch</th>\n",
       "      <th>Ticket</th>\n",
       "      <th>Fare</th>\n",
       "      <th>Cabin</th>\n",
       "      <th>Embarked</th>\n",
       "    </tr>\n",
       "  </thead>\n",
       "  <tbody>\n",
       "    <tr>\n",
       "      <th>0</th>\n",
       "      <td>1</td>\n",
       "      <td>0</td>\n",
       "      <td>3</td>\n",
       "      <td>Braund, Mr. Owen Harris</td>\n",
       "      <td>male</td>\n",
       "      <td>22.0</td>\n",
       "      <td>1</td>\n",
       "      <td>0</td>\n",
       "      <td>A/5 21171</td>\n",
       "      <td>7.2500</td>\n",
       "      <td>NaN</td>\n",
       "      <td>S</td>\n",
       "    </tr>\n",
       "    <tr>\n",
       "      <th>1</th>\n",
       "      <td>2</td>\n",
       "      <td>1</td>\n",
       "      <td>1</td>\n",
       "      <td>Cumings, Mrs. John Bradley (Florence Briggs Th...</td>\n",
       "      <td>female</td>\n",
       "      <td>38.0</td>\n",
       "      <td>1</td>\n",
       "      <td>0</td>\n",
       "      <td>PC 17599</td>\n",
       "      <td>71.2833</td>\n",
       "      <td>C85</td>\n",
       "      <td>C</td>\n",
       "    </tr>\n",
       "    <tr>\n",
       "      <th>2</th>\n",
       "      <td>3</td>\n",
       "      <td>1</td>\n",
       "      <td>3</td>\n",
       "      <td>Heikkinen, Miss. Laina</td>\n",
       "      <td>female</td>\n",
       "      <td>26.0</td>\n",
       "      <td>0</td>\n",
       "      <td>0</td>\n",
       "      <td>STON/O2. 3101282</td>\n",
       "      <td>7.9250</td>\n",
       "      <td>NaN</td>\n",
       "      <td>S</td>\n",
       "    </tr>\n",
       "    <tr>\n",
       "      <th>3</th>\n",
       "      <td>4</td>\n",
       "      <td>1</td>\n",
       "      <td>1</td>\n",
       "      <td>Futrelle, Mrs. Jacques Heath (Lily May Peel)</td>\n",
       "      <td>female</td>\n",
       "      <td>35.0</td>\n",
       "      <td>1</td>\n",
       "      <td>0</td>\n",
       "      <td>113803</td>\n",
       "      <td>53.1000</td>\n",
       "      <td>C123</td>\n",
       "      <td>S</td>\n",
       "    </tr>\n",
       "    <tr>\n",
       "      <th>4</th>\n",
       "      <td>5</td>\n",
       "      <td>0</td>\n",
       "      <td>3</td>\n",
       "      <td>Allen, Mr. William Henry</td>\n",
       "      <td>male</td>\n",
       "      <td>35.0</td>\n",
       "      <td>0</td>\n",
       "      <td>0</td>\n",
       "      <td>373450</td>\n",
       "      <td>8.0500</td>\n",
       "      <td>NaN</td>\n",
       "      <td>S</td>\n",
       "    </tr>\n",
       "  </tbody>\n",
       "</table>\n",
       "</div>"
      ],
      "text/plain": [
       "   PassengerId  Survived  Pclass  \\\n",
       "0            1         0       3   \n",
       "1            2         1       1   \n",
       "2            3         1       3   \n",
       "3            4         1       1   \n",
       "4            5         0       3   \n",
       "\n",
       "                                                Name     Sex   Age  SibSp  \\\n",
       "0                            Braund, Mr. Owen Harris    male  22.0      1   \n",
       "1  Cumings, Mrs. John Bradley (Florence Briggs Th...  female  38.0      1   \n",
       "2                             Heikkinen, Miss. Laina  female  26.0      0   \n",
       "3       Futrelle, Mrs. Jacques Heath (Lily May Peel)  female  35.0      1   \n",
       "4                           Allen, Mr. William Henry    male  35.0      0   \n",
       "\n",
       "   Parch            Ticket     Fare Cabin Embarked  \n",
       "0      0         A/5 21171   7.2500   NaN        S  \n",
       "1      0          PC 17599  71.2833   C85        C  \n",
       "2      0  STON/O2. 3101282   7.9250   NaN        S  \n",
       "3      0            113803  53.1000  C123        S  \n",
       "4      0            373450   8.0500   NaN        S  "
      ]
     },
     "execution_count": 132,
     "metadata": {},
     "output_type": "execute_result"
    }
   ],
   "source": [
    "data.head()"
   ]
  },
  {
   "cell_type": "markdown",
   "id": "908802a4",
   "metadata": {},
   "source": [
    "### Data Exploration"
   ]
  },
  {
   "cell_type": "code",
   "execution_count": 133,
   "id": "9cb82a2a",
   "metadata": {
    "scrolled": true
   },
   "outputs": [
    {
     "data": {
      "text/html": [
       "<div>\n",
       "<style scoped>\n",
       "    .dataframe tbody tr th:only-of-type {\n",
       "        vertical-align: middle;\n",
       "    }\n",
       "\n",
       "    .dataframe tbody tr th {\n",
       "        vertical-align: top;\n",
       "    }\n",
       "\n",
       "    .dataframe thead th {\n",
       "        text-align: right;\n",
       "    }\n",
       "</style>\n",
       "<table border=\"1\" class=\"dataframe\">\n",
       "  <thead>\n",
       "    <tr style=\"text-align: right;\">\n",
       "      <th></th>\n",
       "      <th>PassengerId</th>\n",
       "      <th>Survived</th>\n",
       "      <th>Pclass</th>\n",
       "      <th>Age</th>\n",
       "      <th>SibSp</th>\n",
       "      <th>Parch</th>\n",
       "      <th>Fare</th>\n",
       "    </tr>\n",
       "  </thead>\n",
       "  <tbody>\n",
       "    <tr>\n",
       "      <th>count</th>\n",
       "      <td>891.000000</td>\n",
       "      <td>891.000000</td>\n",
       "      <td>891.000000</td>\n",
       "      <td>714.000000</td>\n",
       "      <td>891.000000</td>\n",
       "      <td>891.000000</td>\n",
       "      <td>891.000000</td>\n",
       "    </tr>\n",
       "    <tr>\n",
       "      <th>mean</th>\n",
       "      <td>446.000000</td>\n",
       "      <td>0.383838</td>\n",
       "      <td>2.308642</td>\n",
       "      <td>29.699118</td>\n",
       "      <td>0.523008</td>\n",
       "      <td>0.381594</td>\n",
       "      <td>32.204208</td>\n",
       "    </tr>\n",
       "    <tr>\n",
       "      <th>std</th>\n",
       "      <td>257.353842</td>\n",
       "      <td>0.486592</td>\n",
       "      <td>0.836071</td>\n",
       "      <td>14.526497</td>\n",
       "      <td>1.102743</td>\n",
       "      <td>0.806057</td>\n",
       "      <td>49.693429</td>\n",
       "    </tr>\n",
       "    <tr>\n",
       "      <th>min</th>\n",
       "      <td>1.000000</td>\n",
       "      <td>0.000000</td>\n",
       "      <td>1.000000</td>\n",
       "      <td>0.420000</td>\n",
       "      <td>0.000000</td>\n",
       "      <td>0.000000</td>\n",
       "      <td>0.000000</td>\n",
       "    </tr>\n",
       "    <tr>\n",
       "      <th>25%</th>\n",
       "      <td>223.500000</td>\n",
       "      <td>0.000000</td>\n",
       "      <td>2.000000</td>\n",
       "      <td>20.125000</td>\n",
       "      <td>0.000000</td>\n",
       "      <td>0.000000</td>\n",
       "      <td>7.910400</td>\n",
       "    </tr>\n",
       "    <tr>\n",
       "      <th>50%</th>\n",
       "      <td>446.000000</td>\n",
       "      <td>0.000000</td>\n",
       "      <td>3.000000</td>\n",
       "      <td>28.000000</td>\n",
       "      <td>0.000000</td>\n",
       "      <td>0.000000</td>\n",
       "      <td>14.454200</td>\n",
       "    </tr>\n",
       "    <tr>\n",
       "      <th>75%</th>\n",
       "      <td>668.500000</td>\n",
       "      <td>1.000000</td>\n",
       "      <td>3.000000</td>\n",
       "      <td>38.000000</td>\n",
       "      <td>1.000000</td>\n",
       "      <td>0.000000</td>\n",
       "      <td>31.000000</td>\n",
       "    </tr>\n",
       "    <tr>\n",
       "      <th>max</th>\n",
       "      <td>891.000000</td>\n",
       "      <td>1.000000</td>\n",
       "      <td>3.000000</td>\n",
       "      <td>80.000000</td>\n",
       "      <td>8.000000</td>\n",
       "      <td>6.000000</td>\n",
       "      <td>512.329200</td>\n",
       "    </tr>\n",
       "  </tbody>\n",
       "</table>\n",
       "</div>"
      ],
      "text/plain": [
       "       PassengerId    Survived      Pclass         Age       SibSp  \\\n",
       "count   891.000000  891.000000  891.000000  714.000000  891.000000   \n",
       "mean    446.000000    0.383838    2.308642   29.699118    0.523008   \n",
       "std     257.353842    0.486592    0.836071   14.526497    1.102743   \n",
       "min       1.000000    0.000000    1.000000    0.420000    0.000000   \n",
       "25%     223.500000    0.000000    2.000000   20.125000    0.000000   \n",
       "50%     446.000000    0.000000    3.000000   28.000000    0.000000   \n",
       "75%     668.500000    1.000000    3.000000   38.000000    1.000000   \n",
       "max     891.000000    1.000000    3.000000   80.000000    8.000000   \n",
       "\n",
       "            Parch        Fare  \n",
       "count  891.000000  891.000000  \n",
       "mean     0.381594   32.204208  \n",
       "std      0.806057   49.693429  \n",
       "min      0.000000    0.000000  \n",
       "25%      0.000000    7.910400  \n",
       "50%      0.000000   14.454200  \n",
       "75%      0.000000   31.000000  \n",
       "max      6.000000  512.329200  "
      ]
     },
     "execution_count": 133,
     "metadata": {},
     "output_type": "execute_result"
    }
   ],
   "source": [
    "data.describe()"
   ]
  },
  {
   "cell_type": "code",
   "execution_count": 134,
   "id": "56b5f199",
   "metadata": {},
   "outputs": [
    {
     "name": "stdout",
     "output_type": "stream",
     "text": [
      "<class 'pandas.core.frame.DataFrame'>\n",
      "RangeIndex: 891 entries, 0 to 890\n",
      "Data columns (total 12 columns):\n",
      " #   Column       Non-Null Count  Dtype  \n",
      "---  ------       --------------  -----  \n",
      " 0   PassengerId  891 non-null    int64  \n",
      " 1   Survived     891 non-null    int64  \n",
      " 2   Pclass       891 non-null    int64  \n",
      " 3   Name         891 non-null    object \n",
      " 4   Sex          891 non-null    object \n",
      " 5   Age          714 non-null    float64\n",
      " 6   SibSp        891 non-null    int64  \n",
      " 7   Parch        891 non-null    int64  \n",
      " 8   Ticket       891 non-null    object \n",
      " 9   Fare         891 non-null    float64\n",
      " 10  Cabin        204 non-null    object \n",
      " 11  Embarked     889 non-null    object \n",
      "dtypes: float64(2), int64(5), object(5)\n",
      "memory usage: 83.7+ KB\n"
     ]
    }
   ],
   "source": [
    "data.info()"
   ]
  },
  {
   "cell_type": "code",
   "execution_count": 135,
   "id": "f39dbcf0",
   "metadata": {},
   "outputs": [
    {
     "data": {
      "text/plain": [
       "PassengerId      0\n",
       "Survived         0\n",
       "Pclass           0\n",
       "Name             0\n",
       "Sex              0\n",
       "Age            177\n",
       "SibSp            0\n",
       "Parch            0\n",
       "Ticket           0\n",
       "Fare             0\n",
       "Cabin          687\n",
       "Embarked         2\n",
       "dtype: int64"
      ]
     },
     "execution_count": 135,
     "metadata": {},
     "output_type": "execute_result"
    }
   ],
   "source": [
    "# Null count per column\n",
    "data.isnull().sum()"
   ]
  },
  {
   "cell_type": "code",
   "execution_count": 136,
   "id": "5e13bb46",
   "metadata": {},
   "outputs": [
    {
     "data": {
      "text/plain": [
       "<AxesSubplot:xlabel='Survived'>"
      ]
     },
     "execution_count": 136,
     "metadata": {},
     "output_type": "execute_result"
    },
    {
     "data": {
      "image/png": "[encoded data removed]",
      "text/plain": [
       "<Figure size 432x288 with 1 Axes>"
      ]
     },
     "metadata": {
      "needs_background": "light"
     },
     "output_type": "display_data"
    }
   ],
   "source": [
    "# Explore the target: Survived\n",
    "survived_group = data.groupby([\"Survived\"]).size()\n",
    "survived_group.plot.bar(color='gray')"
   ]
  },
  {
   "cell_type": "code",
   "execution_count": 137,
   "id": "6eca00b1",
   "metadata": {},
   "outputs": [
    {
     "data": {
      "text/plain": [
       "<AxesSubplot:xlabel='Age', ylabel='Count'>"
      ]
     },
     "execution_count": 137,
     "metadata": {},
     "output_type": "execute_result"
    },
    {
     "data": {
      "image/png": "[encoded data removed]",
      "text/plain": [
       "<Figure size 432x288 with 1 Axes>"
      ]
     },
     "metadata": {
      "needs_background": "light"
     },
     "output_type": "display_data"
    }
   ],
   "source": [
    "# Explore Age\n",
    "sns.histplot(x=\"Age\", data=data)"
   ]
  },
  {
   "cell_type": "code",
   "execution_count": 138,
   "id": "dac86207",
   "metadata": {
    "scrolled": true
   },
   "outputs": [
    {
     "data": {
      "text/plain": [
       "<AxesSubplot:xlabel='Sex'>"
      ]
     },
     "execution_count": 138,
     "metadata": {},
     "output_type": "execute_result"
    },
    {
     "data": {
      "image/png": "[encoded data removed]",
      "text/plain": [
       "<Figure size 432x288 with 1 Axes>"
      ]
     },
     "metadata": {
      "needs_background": "light"
     },
     "output_type": "display_data"
    }
   ],
   "source": [
    "# The sex distribuition\n",
    "sex_group = data.groupby([\"Sex\"]).size()\n",
    "sex_group.plot.bar(color='gray')"
   ]
  },
  {
   "cell_type": "code",
   "execution_count": 139,
   "id": "17a8174b",
   "metadata": {},
   "outputs": [
    {
     "data": {
      "text/plain": [
       "<AxesSubplot:xlabel='SibSp'>"
      ]
     },
     "execution_count": 139,
     "metadata": {},
     "output_type": "execute_result"
    },
    {
     "data": {
      "image/png": "[encoded data removed]",
      "text/plain": [
       "<Figure size 432x288 with 1 Axes>"
      ]
     },
     "metadata": {
      "needs_background": "light"
     },
     "output_type": "display_data"
    }
   ],
   "source": [
    "# Number of siblings\n",
    "sib_group = data.groupby([\"SibSp\"]).size()\n",
    "sib_group.plot.bar(color=\"gray\")"
   ]
  },
  {
   "cell_type": "code",
   "execution_count": 140,
   "id": "d5a02880",
   "metadata": {},
   "outputs": [
    {
     "data": {
      "text/plain": [
       "<AxesSubplot:xlabel='Parch'>"
      ]
     },
     "execution_count": 140,
     "metadata": {},
     "output_type": "execute_result"
    },
    {
     "data": {
      "image/png": "[encoded data removed]",
      "text/plain": [
       "<Figure size 432x288 with 1 Axes>"
      ]
     },
     "metadata": {
      "needs_background": "light"
     },
     "output_type": "display_data"
    }
   ],
   "source": [
    "# Number of family relations in this way\n",
    "parch_group = data.groupby([\"Parch\"]).size()\n",
    "parch_group.plot.bar(color=\"gray\")"
   ]
  },
  {
   "cell_type": "code",
   "execution_count": 141,
   "id": "a94115fb",
   "metadata": {},
   "outputs": [
    {
     "data": {
      "text/plain": [
       "<AxesSubplot:xlabel='Embarked'>"
      ]
     },
     "execution_count": 141,
     "metadata": {},
     "output_type": "execute_result"
    },
    {
     "data": {
      "image/png": "[encoded data removed]",
      "text/plain": [
       "<Figure size 432x288 with 1 Axes>"
      ]
     },
     "metadata": {
      "needs_background": "light"
     },
     "output_type": "display_data"
    }
   ],
   "source": [
    "embarked_group = data.groupby([\"Embarked\"]).size()\n",
    "embarked_group.plot.bar(color=\"gray\")"
   ]
  },
  {
   "cell_type": "code",
   "execution_count": 142,
   "id": "8fb3bfce",
   "metadata": {
    "scrolled": true
   },
   "outputs": [
    {
     "data": {
      "text/plain": [
       "<AxesSubplot:xlabel='Fare'>"
      ]
     },
     "execution_count": 142,
     "metadata": {},
     "output_type": "execute_result"
    },
    {
     "data": {
      "image/png": "[encoded data removed]",
      "text/plain": [
       "<Figure size 432x288 with 1 Axes>"
      ]
     },
     "metadata": {
      "needs_background": "light"
     },
     "output_type": "display_data"
    }
   ],
   "source": [
    "# Passenger fare\n",
    "sns.boxplot(x=\"Fare\", data=data)"
   ]
  },
  {
   "cell_type": "markdown",
   "id": "3ad60c50",
   "metadata": {},
   "source": [
    "### Data Processing"
   ]
  },
  {
   "cell_type": "code",
   "execution_count": 143,
   "id": "a62abc25",
   "metadata": {
    "scrolled": true
   },
   "outputs": [
    {
     "data": {
      "text/plain": [
       "0"
      ]
     },
     "execution_count": 143,
     "metadata": {},
     "output_type": "execute_result"
    }
   ],
   "source": [
    "# Age\n",
    "age_median = np.nanmedian(data[\"Age\"])\n",
    "data[\"Age\"].fillna(age_median, inplace=True)\n",
    "data[\"Age\"].isnull().sum()"
   ]
  },
  {
   "cell_type": "code",
   "execution_count": 144,
   "id": "9cda9305",
   "metadata": {},
   "outputs": [],
   "source": [
    "# Replace Age for Age Categorie\n",
    "age = []\n",
    "for i in data.index:\n",
    "    if data[\"Age\"].loc[i] > 0 and data[\"Age\"].loc[i] <= 10:\n",
    "        age.append(\"Kid\")\n",
    "    elif data[\"Age\"].loc[i] > 10 and data[\"Age\"].loc[i] < 21:\n",
    "        age.append(\"Teen\")\n",
    "    elif data[\"Age\"].loc[i] >= 21 and data[\"Age\"].loc[i] < 60:\n",
    "        age.append(\"Aduld\")\n",
    "    elif data[\"Age\"].loc[i] >= 60:\n",
    "        age.append(\"Senior\")"
   ]
  },
  {
   "cell_type": "code",
   "execution_count": 145,
   "id": "fbc953d6",
   "metadata": {},
   "outputs": [],
   "source": [
    "data.Age = age"
   ]
  },
  {
   "cell_type": "code",
   "execution_count": 146,
   "id": "5620d38a",
   "metadata": {},
   "outputs": [],
   "source": [
    "# Cabin\n",
    "data = data.drop(columns=[\"Cabin\"])"
   ]
  },
  {
   "cell_type": "code",
   "execution_count": 147,
   "id": "c55c29e5",
   "metadata": {},
   "outputs": [
    {
     "data": {
      "text/plain": [
       "0"
      ]
     },
     "execution_count": 147,
     "metadata": {},
     "output_type": "execute_result"
    }
   ],
   "source": [
    "# Embarked\n",
    "data[\"Embarked\"].fillna(\"S\", inplace=True)\n",
    "data[\"Embarked\"].isnull().sum()"
   ]
  },
  {
   "cell_type": "code",
   "execution_count": 148,
   "id": "57f552f0",
   "metadata": {
    "scrolled": false
   },
   "outputs": [
    {
     "data": {
      "text/plain": [
       "PassengerId    0\n",
       "Survived       0\n",
       "Pclass         0\n",
       "Name           0\n",
       "Sex            0\n",
       "Age            0\n",
       "SibSp          0\n",
       "Parch          0\n",
       "Ticket         0\n",
       "Fare           0\n",
       "Embarked       0\n",
       "dtype: int64"
      ]
     },
     "execution_count": 148,
     "metadata": {},
     "output_type": "execute_result"
    }
   ],
   "source": [
    "# Null count\n",
    "data.isnull().sum()"
   ]
  },
  {
   "cell_type": "markdown",
   "id": "46ba1d14",
   "metadata": {},
   "source": [
    "### Prepare dataset for machine learning"
   ]
  },
  {
   "cell_type": "code",
   "execution_count": 149,
   "id": "c8951ee1",
   "metadata": {},
   "outputs": [],
   "source": [
    "# Separate Survived from database and creates copy\n",
    "target = data[\"Survived\"]\n",
    "data.drop(\"Survived\", axis=1, inplace=True)\n",
    "data_main = data.copy()\n",
    "data_w_family = data.copy()\n",
    "data_w_embarked = data.copy()"
   ]
  },
  {
   "cell_type": "code",
   "execution_count": 150,
   "id": "523b27c0",
   "metadata": {},
   "outputs": [],
   "source": [
    "# Drop columns considered useless\n",
    "data_main.drop([\"Name\", \"PassengerId\", \"Ticket\", \"Embarked\", \"SibSp\", \"Parch\"], axis=1, inplace=True)\n",
    "data_w_family.drop([\"Name\", \"PassengerId\", \"Ticket\", \"Embarked\"], axis=1, inplace=True)\n",
    "data_w_embarked.drop([\"Name\", \"PassengerId\", \"Ticket\", \"SibSp\", \"Parch\"], axis=1, inplace=True)"
   ]
  },
  {
   "cell_type": "code",
   "execution_count": 151,
   "id": "4a718885",
   "metadata": {},
   "outputs": [],
   "source": [
    "# Get Dummies\n",
    "data_main = pd.get_dummies(data_main)\n",
    "data_w_family = pd.get_dummies(data_w_family)\n",
    "data_w_embarked = pd.get_dummies(data_w_embarked)"
   ]
  },
  {
   "cell_type": "code",
   "execution_count": 152,
   "id": "a36085fe",
   "metadata": {},
   "outputs": [],
   "source": [
    "# Split train and test\n",
    "x_main_train, x_main_test, y_main_train, y_main_test = train_test_split(data_main, target, test_size=0.2)\n",
    "x_family_train, x_family_test, y_family_train, y_family_test = train_test_split(data_w_family, target, test_size=0.2)\n",
    "x_embarked_train, x_embarked_test, y_embarked_train, y_embarked_test = train_test_split(data_w_embarked, target, test_size=0.2)"
   ]
  },
  {
   "cell_type": "markdown",
   "id": "2a13d081",
   "metadata": {},
   "source": [
    "### Machine Learning\n",
    "In this session i will use two algorithms: Logistic Regression and Decision Tree, for classification."
   ]
  },
  {
   "cell_type": "code",
   "execution_count": 153,
   "id": "b42354e9",
   "metadata": {},
   "outputs": [],
   "source": [
    "# Create the models - Logistic Regression\n",
    "main_logistic = LogisticRegression(solver='liblinear')\n",
    "family_logistic = LogisticRegression(solver='liblinear')\n",
    "embarked_logistic = LogisticRegression(solver='liblinear')"
   ]
  },
  {
   "cell_type": "code",
   "execution_count": 154,
   "id": "7f289204",
   "metadata": {},
   "outputs": [],
   "source": [
    "# Create the models - Decision Tree\n",
    "main_tree = DecisionTreeClassifier(max_depth=3)\n",
    "family_tree = DecisionTreeClassifier(max_depth=3)\n",
    "embarked_tree = DecisionTreeClassifier(max_depth=3)"
   ]
  },
  {
   "cell_type": "code",
   "execution_count": 155,
   "id": "67942c9b",
   "metadata": {},
   "outputs": [
    {
     "data": {
      "text/plain": [
       "DecisionTreeClassifier(max_depth=3)"
      ]
     },
     "execution_count": 155,
     "metadata": {},
     "output_type": "execute_result"
    }
   ],
   "source": [
    "# Train decision tree models\n",
    "main_tree.fit(x_main_train, y_main_train)\n",
    "family_tree.fit(x_family_train, y_family_train)\n",
    "embarked_tree.fit(x_embarked_train, y_embarked_train)"
   ]
  },
  {
   "cell_type": "code",
   "execution_count": 156,
   "id": "60063611",
   "metadata": {},
   "outputs": [],
   "source": [
    "# Predict with decision tree models\n",
    "main_predict = main_tree.predict(x_main_test)\n",
    "family_predict = family_tree.predict(x_family_test)\n",
    "embarked_predict = embarked_tree.predict(x_embarked_test)"
   ]
  },
  {
   "cell_type": "markdown",
   "id": "7033b319",
   "metadata": {},
   "source": [
    "### Evaluate the model\n",
    "Evaluate the models with their accuracy and cross validation score."
   ]
  },
  {
   "cell_type": "code",
   "execution_count": 157,
   "id": "0bca7982",
   "metadata": {},
   "outputs": [],
   "source": [
    "# Logistic model\n",
    "main_acc = cross_val_score(main_logistic, x_main_train, y_main_train, cv=5)\n",
    "family_acc = cross_val_score(family_logistic, x_family_train, y_family_train, cv=5)\n",
    "embarked_acc = cross_val_score(embarked_logistic, x_embarked_train, y_embarked_train, cv=5)"
   ]
  },
  {
   "cell_type": "code",
   "execution_count": 158,
   "id": "f49a806c",
   "metadata": {},
   "outputs": [
    {
     "name": "stdout",
     "output_type": "stream",
     "text": [
      "Main:  78.64966019895597\n",
      "Family:  80.762336255294\n",
      "Embarked:  78.7944449916281\n"
     ]
    }
   ],
   "source": [
    "print(\"Main: \", np.mean(main_acc)*100)\n",
    "print(\"Family: \", np.mean(family_acc)*100)\n",
    "print(\"Embarked: \", np.mean(embarked_acc)*100)"
   ]
  },
  {
   "cell_type": "code",
   "execution_count": 159,
   "id": "384ecaef",
   "metadata": {},
   "outputs": [],
   "source": [
    "# Decision Tree model\n",
    "main_decision = cross_val_score(main_tree, x_main_train, y_main_train, cv=5)\n",
    "family_decision = cross_val_score(family_tree, x_family_train, y_family_train, cv=5)\n",
    "embarked_decision = cross_val_score(embarked_tree, x_embarked_train, y_embarked_train, cv=5)"
   ]
  },
  {
   "cell_type": "code",
   "execution_count": 160,
   "id": "aaf6f4cc",
   "metadata": {
    "scrolled": true
   },
   "outputs": [
    {
     "name": "stdout",
     "output_type": "stream",
     "text": [
      "Main:  81.74234216487737\n",
      "Family:  81.45769723234511\n",
      "Embarked:  82.02107751403526\n"
     ]
    }
   ],
   "source": [
    "print(\"Main: \", np.mean(main_decision)*100)\n",
    "print(\"Family: \", np.mean(family_decision)*100)\n",
    "print(\"Embarked: \", np.mean(embarked_decision)*100)"
   ]
  },
  {
   "cell_type": "code",
   "execution_count": 161,
   "id": "a1c01456",
   "metadata": {},
   "outputs": [],
   "source": [
    "# Accuracy Score\n",
    "main_accuracy = accuracy_score(y_main_test, main_predict) * 100\n",
    "family_accuracy = accuracy_score(y_family_test, family_predict) * 100\n",
    "embarked_accuracy = accuracy_score(y_embarked_test, embarked_predict) * 100"
   ]
  },
  {
   "cell_type": "code",
   "execution_count": 162,
   "id": "f32bdfa2",
   "metadata": {},
   "outputs": [
    {
     "name": "stdout",
     "output_type": "stream",
     "text": [
      "Main:  79.88826815642457\n",
      "Family:  78.2122905027933\n",
      "Embarked:  80.44692737430168\n"
     ]
    }
   ],
   "source": [
    "print(\"Main: \", main_accuracy)\n",
    "print(\"Family: \", family_accuracy)\n",
    "print(\"Embarked: \", embarked_accuracy)"
   ]
  },
  {
   "cell_type": "markdown",
   "id": "0de7f9b6",
   "metadata": {},
   "source": [
    "### Conclusion"
   ]
  },
  {
   "cell_type": "markdown",
   "id": "65339f6e",
   "metadata": {},
   "source": [
    "<p>\n",
    "    Decision Tree achieved better accuracy and Cross Validation Score in relation to Logistic Regression algorithm.\n",
    "</p>    \n",
    "<p> \n",
    "   The three types of models are precisely similar on average.\n",
    "</p>"
   ]
  }
 ],
 "metadata": {
  "kernelspec": {
   "display_name": "Python 3",
   "language": "python",
   "name": "python3"
  },
  "language_info": {
   "codemirror_mode": {
    "name": "ipython",
    "version": 3
   },
   "file_extension": ".py",
   "mimetype": "text/x-python",
   "name": "python",
   "nbconvert_exporter": "python",
   "pygments_lexer": "ipython3",
   "version": "3.8.8"
  }
 },
 "nbformat": 4,
 "nbformat_minor": 5
}
