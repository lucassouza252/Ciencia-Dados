{
 "cells": [
  {
   "cell_type": "code",
   "execution_count": 19,
   "id": "eae7100e",
   "metadata": {},
   "outputs": [],
   "source": [
    "import pandas as pd\n",
    "from sklearn.model_selection import train_test_split\n",
    "from sklearn.svm import SVC\n",
    "from sklearn.ensemble import ExtraTreesClassifier\n",
    "from sklearn.preprocessing import LabelEncoder\n",
    "from sklearn.metrics import confusion_matrix, accuracy_score"
   ]
  },
  {
   "cell_type": "code",
   "execution_count": 20,
   "id": "527f7426",
   "metadata": {},
   "outputs": [
    {
     "data": {
      "text/plain": [
       "(1000, 21)"
      ]
     },
     "execution_count": 20,
     "metadata": {},
     "output_type": "execute_result"
    }
   ],
   "source": [
    "credito = pd.read_csv('Credit.csv')\n",
    "credito.shape"
   ]
  },
  {
   "cell_type": "code",
   "execution_count": 21,
   "id": "5379f971",
   "metadata": {},
   "outputs": [],
   "source": [
    "previsores = credito.iloc[:,0:20].values\n",
    "classe = credito.iloc[:,20].values"
   ]
  },
  {
   "cell_type": "code",
   "execution_count": 22,
   "id": "821dcf02",
   "metadata": {},
   "outputs": [],
   "source": [
    "# Encode dos categoricos\n",
    "label_encoder1 = LabelEncoder()\n",
    "previsores[:,0] = label_encoder1.fit_transform(previsores[:,0])\n",
    "\n",
    "label_encoder2 = LabelEncoder()\n",
    "previsores[:,2] = label_encoder1.fit_transform(previsores[:,2])\n",
    "\n",
    "label_encoder3 = LabelEncoder()\n",
    "previsores[:,3] = label_encoder1.fit_transform(previsores[:,3])\n",
    "\n",
    "label_encoder4 = LabelEncoder()\n",
    "previsores[:,5] = label_encoder1.fit_transform(previsores[:,5])\n",
    "\n",
    "label_encoder5 = LabelEncoder()\n",
    "previsores[:,6] = label_encoder1.fit_transform(previsores[:,6])\n",
    "\n",
    "label_encoder6 = LabelEncoder()\n",
    "previsores[:,8] = label_encoder1.fit_transform(previsores[:,8])\n",
    "\n",
    "label_encoder7 = LabelEncoder()\n",
    "previsores[:,9] = label_encoder1.fit_transform(previsores[:,9])\n",
    "\n",
    "label_encoder8 = LabelEncoder()\n",
    "previsores[:,11] = label_encoder1.fit_transform(previsores[:,11])\n",
    "\n",
    "label_encoder9 = LabelEncoder()\n",
    "previsores[:,13] = label_encoder1.fit_transform(previsores[:,13])\n",
    "\n",
    "label_encoder10 = LabelEncoder()\n",
    "previsores[:,14] = label_encoder1.fit_transform(previsores[:,14])\n",
    "\n",
    "label_encoder11 = LabelEncoder()\n",
    "previsores[:,16] = label_encoder1.fit_transform(previsores[:,16])\n",
    "\n",
    "label_encoder12 = LabelEncoder()\n",
    "previsores[:,18] = label_encoder1.fit_transform(previsores[:,18])\n",
    "\n",
    "label_encoder13 = LabelEncoder()\n",
    "previsores[:,19] = label_encoder1.fit_transform(previsores[:,19])"
   ]
  },
  {
   "cell_type": "code",
   "execution_count": 48,
   "id": "fc60fd47",
   "metadata": {},
   "outputs": [],
   "source": [
    "x_treino, x_teste, y_treino, y_teste = train_test_split(previsores, classe, test_size=0.3, random_state=0)"
   ]
  },
  {
   "cell_type": "code",
   "execution_count": 49,
   "id": "db970a3d",
   "metadata": {},
   "outputs": [],
   "source": [
    "svm = SVC()"
   ]
  },
  {
   "cell_type": "code",
   "execution_count": 50,
   "id": "45c6eb96",
   "metadata": {},
   "outputs": [
    {
     "data": {
      "text/plain": [
       "SVC()"
      ]
     },
     "execution_count": 50,
     "metadata": {},
     "output_type": "execute_result"
    }
   ],
   "source": [
    "svm.fit(x_treino, y_treino)"
   ]
  },
  {
   "cell_type": "code",
   "execution_count": 51,
   "id": "438b961a",
   "metadata": {},
   "outputs": [],
   "source": [
    "previsoes = svm.predict(x_teste)"
   ]
  },
  {
   "cell_type": "code",
   "execution_count": 52,
   "id": "796e4f3b",
   "metadata": {},
   "outputs": [
    {
     "data": {
      "text/plain": [
       "0.7166666666666667"
      ]
     },
     "execution_count": 52,
     "metadata": {},
     "output_type": "execute_result"
    }
   ],
   "source": [
    "taxa_acerto = accuracy_score(y_teste, previsoes)\n",
    "taxa_acerto"
   ]
  },
  {
   "cell_type": "code",
   "execution_count": 53,
   "id": "0c7d9340",
   "metadata": {},
   "outputs": [
    {
     "data": {
      "text/plain": [
       "array([0.10899873, 0.08390235, 0.0621567 , 0.06219675, 0.0838472 ,\n",
       "       0.04770212, 0.05335198, 0.05096582, 0.04333114, 0.02469728,\n",
       "       0.05076143, 0.04947784, 0.0635032 , 0.03583897, 0.03633002,\n",
       "       0.03511385, 0.04292698, 0.02452379, 0.03195592, 0.00841792])"
      ]
     },
     "execution_count": 53,
     "metadata": {},
     "output_type": "execute_result"
    }
   ],
   "source": [
    "forest = ExtraTreesClassifier()\n",
    "forest.fit(x_treino, y_treino)\n",
    "importantes = forest.feature_importances_\n",
    "importantes"
   ]
  },
  {
   "cell_type": "code",
   "execution_count": 58,
   "id": "7ada6e18",
   "metadata": {},
   "outputs": [],
   "source": [
    "x_treino2 = x_treino[:, [0, 1, 4]]\n",
    "x_teste2 = x_teste[:, [0, 1, 4]]"
   ]
  },
  {
   "cell_type": "code",
   "execution_count": 59,
   "id": "5956c998",
   "metadata": {},
   "outputs": [
    {
     "data": {
      "text/plain": [
       "0.7166666666666667"
      ]
     },
     "execution_count": 59,
     "metadata": {},
     "output_type": "execute_result"
    }
   ],
   "source": [
    "svm2 = SVC()\n",
    "svm2.fit(x_treino2, y_treino)\n",
    "previsoes2 = svm2.predict(x_teste2)\n",
    "taxa_acerto2 = accuracy_score(y_teste, previsoes2)\n",
    "taxa_acerto2"
   ]
  },
  {
   "cell_type": "code",
   "execution_count": null,
   "id": "1a70eb05",
   "metadata": {},
   "outputs": [],
   "source": []
  }
 ],
 "metadata": {
  "kernelspec": {
   "display_name": "Python 3",
   "language": "python",
   "name": "python3"
  },
  "language_info": {
   "codemirror_mode": {
    "name": "ipython",
    "version": 3
   },
   "file_extension": ".py",
   "mimetype": "text/x-python",
   "name": "python",
   "nbconvert_exporter": "python",
   "pygments_lexer": "ipython3",
   "version": "3.8.8"
  }
 },
 "nbformat": 4,
 "nbformat_minor": 5
}
