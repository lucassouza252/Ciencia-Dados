{
 "cells": [
  {
   "cell_type": "markdown",
   "id": "4ad10ddf",
   "metadata": {},
   "source": [
    "# Visualização de Dados\n",
    "#### Dataset arbitrário"
   ]
  },
  {
   "cell_type": "code",
   "execution_count": 1,
   "id": "bb0006b0",
   "metadata": {},
   "outputs": [
    {
     "data": {
      "text/plain": [
       "<function seaborn.rcmod.set_theme(context='notebook', style='darkgrid', palette='deep', font='sans-serif', font_scale=1, color_codes=True, rc=None)>"
      ]
     },
     "execution_count": 1,
     "metadata": {},
     "output_type": "execute_result"
    }
   ],
   "source": [
    "import pandas as pd # Biblioteca de manipulação de dados\n",
    "import seaborn as sns # Biblioteca de visualização de dados\n",
    "sns.set_theme # Seta tema padrão do Seaborn"
   ]
  },
  {
   "cell_type": "markdown",
   "id": "66270153",
   "metadata": {},
   "source": [
    "### Importação e verificação dos dados"
   ]
  },
  {
   "cell_type": "code",
   "execution_count": 2,
   "id": "28e855c3",
   "metadata": {},
   "outputs": [
    {
     "data": {
      "text/plain": [
       "(187, 4)"
      ]
     },
     "execution_count": 2,
     "metadata": {},
     "output_type": "execute_result"
    }
   ],
   "source": [
    "data = pd.read_csv(\"dados.csv\", sep=\";\")\n",
    "data.shape"
   ]
  },
  {
   "cell_type": "code",
   "execution_count": 3,
   "id": "62652429",
   "metadata": {},
   "outputs": [
    {
     "data": {
      "text/html": [
       "<div>\n",
       "<style scoped>\n",
       "    .dataframe tbody tr th:only-of-type {\n",
       "        vertical-align: middle;\n",
       "    }\n",
       "\n",
       "    .dataframe tbody tr th {\n",
       "        vertical-align: top;\n",
       "    }\n",
       "\n",
       "    .dataframe thead th {\n",
       "        text-align: right;\n",
       "    }\n",
       "</style>\n",
       "<table border=\"1\" class=\"dataframe\">\n",
       "  <thead>\n",
       "    <tr style=\"text-align: right;\">\n",
       "      <th></th>\n",
       "      <th>CODIGO</th>\n",
       "      <th>MUNICIPIO</th>\n",
       "      <th>PIB</th>\n",
       "      <th>VALOREMPENHO</th>\n",
       "    </tr>\n",
       "  </thead>\n",
       "  <tbody>\n",
       "    <tr>\n",
       "      <th>0</th>\n",
       "      <td>106</td>\n",
       "      <td>SANTANA DO LIVRAMENTO</td>\n",
       "      <td>12240.76</td>\n",
       "      <td>1088666.10</td>\n",
       "    </tr>\n",
       "    <tr>\n",
       "      <th>1</th>\n",
       "      <td>113</td>\n",
       "      <td>SANTO ANGELO</td>\n",
       "      <td>16575.82</td>\n",
       "      <td>800669.92</td>\n",
       "    </tr>\n",
       "    <tr>\n",
       "      <th>2</th>\n",
       "      <td>118</td>\n",
       "      <td>SAO FRANCISCO DE ASSIS</td>\n",
       "      <td>12037.61</td>\n",
       "      <td>466122.80</td>\n",
       "    </tr>\n",
       "    <tr>\n",
       "      <th>3</th>\n",
       "      <td>13</td>\n",
       "      <td>CACAPAVA DO SUL</td>\n",
       "      <td>13674.54</td>\n",
       "      <td>485535.86</td>\n",
       "    </tr>\n",
       "    <tr>\n",
       "      <th>4</th>\n",
       "      <td>120</td>\n",
       "      <td>SAO GABRIEL</td>\n",
       "      <td>19912.38</td>\n",
       "      <td>533719.86</td>\n",
       "    </tr>\n",
       "  </tbody>\n",
       "</table>\n",
       "</div>"
      ],
      "text/plain": [
       "   CODIGO               MUNICIPIO       PIB  VALOREMPENHO\n",
       "0     106   SANTANA DO LIVRAMENTO  12240.76    1088666.10\n",
       "1     113            SANTO ANGELO  16575.82     800669.92\n",
       "2     118  SAO FRANCISCO DE ASSIS  12037.61     466122.80\n",
       "3      13         CACAPAVA DO SUL  13674.54     485535.86\n",
       "4     120             SAO GABRIEL  19912.38     533719.86"
      ]
     },
     "execution_count": 3,
     "metadata": {},
     "output_type": "execute_result"
    }
   ],
   "source": [
    "data.head()"
   ]
  },
  {
   "cell_type": "markdown",
   "id": "02589566",
   "metadata": {},
   "source": [
    "### Exploração dos Dados"
   ]
  },
  {
   "cell_type": "code",
   "execution_count": 4,
   "id": "6bf13e28",
   "metadata": {},
   "outputs": [
    {
     "data": {
      "text/html": [
       "<div>\n",
       "<style scoped>\n",
       "    .dataframe tbody tr th:only-of-type {\n",
       "        vertical-align: middle;\n",
       "    }\n",
       "\n",
       "    .dataframe tbody tr th {\n",
       "        vertical-align: top;\n",
       "    }\n",
       "\n",
       "    .dataframe thead th {\n",
       "        text-align: right;\n",
       "    }\n",
       "</style>\n",
       "<table border=\"1\" class=\"dataframe\">\n",
       "  <thead>\n",
       "    <tr style=\"text-align: right;\">\n",
       "      <th></th>\n",
       "      <th>CODIGO</th>\n",
       "      <th>PIB</th>\n",
       "      <th>VALOREMPENHO</th>\n",
       "    </tr>\n",
       "  </thead>\n",
       "  <tbody>\n",
       "    <tr>\n",
       "      <th>count</th>\n",
       "      <td>187.000000</td>\n",
       "      <td>187.000000</td>\n",
       "      <td>1.870000e+02</td>\n",
       "    </tr>\n",
       "    <tr>\n",
       "      <th>mean</th>\n",
       "      <td>247.155080</td>\n",
       "      <td>19808.741337</td>\n",
       "      <td>1.299844e+05</td>\n",
       "    </tr>\n",
       "    <tr>\n",
       "      <th>std</th>\n",
       "      <td>138.750385</td>\n",
       "      <td>16984.223244</td>\n",
       "      <td>1.615491e+05</td>\n",
       "    </tr>\n",
       "    <tr>\n",
       "      <th>min</th>\n",
       "      <td>1.000000</td>\n",
       "      <td>8236.630000</td>\n",
       "      <td>1.721300e+02</td>\n",
       "    </tr>\n",
       "    <tr>\n",
       "      <th>25%</th>\n",
       "      <td>141.000000</td>\n",
       "      <td>13621.455000</td>\n",
       "      <td>5.251718e+04</td>\n",
       "    </tr>\n",
       "    <tr>\n",
       "      <th>50%</th>\n",
       "      <td>242.000000</td>\n",
       "      <td>17206.190000</td>\n",
       "      <td>8.422816e+04</td>\n",
       "    </tr>\n",
       "    <tr>\n",
       "      <th>75%</th>\n",
       "      <td>372.500000</td>\n",
       "      <td>21429.165000</td>\n",
       "      <td>1.538961e+05</td>\n",
       "    </tr>\n",
       "    <tr>\n",
       "      <th>max</th>\n",
       "      <td>496.000000</td>\n",
       "      <td>223848.220000</td>\n",
       "      <td>1.442760e+06</td>\n",
       "    </tr>\n",
       "  </tbody>\n",
       "</table>\n",
       "</div>"
      ],
      "text/plain": [
       "           CODIGO            PIB  VALOREMPENHO\n",
       "count  187.000000     187.000000  1.870000e+02\n",
       "mean   247.155080   19808.741337  1.299844e+05\n",
       "std    138.750385   16984.223244  1.615491e+05\n",
       "min      1.000000    8236.630000  1.721300e+02\n",
       "25%    141.000000   13621.455000  5.251718e+04\n",
       "50%    242.000000   17206.190000  8.422816e+04\n",
       "75%    372.500000   21429.165000  1.538961e+05\n",
       "max    496.000000  223848.220000  1.442760e+06"
      ]
     },
     "execution_count": 4,
     "metadata": {},
     "output_type": "execute_result"
    }
   ],
   "source": [
    "data.describe()"
   ]
  },
  {
   "cell_type": "markdown",
   "id": "7464eca6",
   "metadata": {},
   "source": [
    "#### PIB\n",
    "<p>Gráfico estilo BoxPlot para verificar presença de outliers e Histograma para observar a organização dos dados.</p>"
   ]
  },
  {
   "cell_type": "code",
   "execution_count": 5,
   "id": "1c83adb8",
   "metadata": {},
   "outputs": [
    {
     "data": {
      "text/plain": [
       "<AxesSubplot:xlabel='PIB'>"
      ]
     },
     "execution_count": 5,
     "metadata": {},
     "output_type": "execute_result"
    },
    {
     "data": {
      "image/png": "[encoded data removed]",
      "text/plain": [
       "<Figure size 432x288 with 1 Axes>"
      ]
     },
     "metadata": {
      "needs_background": "light"
     },
     "output_type": "display_data"
    }
   ],
   "source": [
    "#Boxplot\n",
    "sns.boxplot(x=\"PIB\", data=data)"
   ]
  },
  {
   "cell_type": "code",
   "execution_count": 6,
   "id": "048bb8e1",
   "metadata": {},
   "outputs": [
    {
     "data": {
      "text/plain": [
       "<AxesSubplot:xlabel='PIB', ylabel='Count'>"
      ]
     },
     "execution_count": 6,
     "metadata": {},
     "output_type": "execute_result"
    },
    {
     "data": {
      "image/png": "[encoded data removed]",
      "text/plain": [
       "<Figure size 432x288 with 1 Axes>"
      ]
     },
     "metadata": {
      "needs_background": "light"
     },
     "output_type": "display_data"
    }
   ],
   "source": [
    "#Histograma com densidade\n",
    "sns.histplot(x=\"PIB\", kde=True, data=data)"
   ]
  },
  {
   "cell_type": "markdown",
   "id": "54ef4739",
   "metadata": {},
   "source": [
    "#### Valor de empenho\n",
    "<p>Gráfico BoxPlot para encontrar outliers e Histograma para observar a organização dos dados.</p>"
   ]
  },
  {
   "cell_type": "code",
   "execution_count": 7,
   "id": "68f73d37",
   "metadata": {},
   "outputs": [
    {
     "data": {
      "text/plain": [
       "<AxesSubplot:xlabel='VALOREMPENHO'>"
      ]
     },
     "execution_count": 7,
     "metadata": {},
     "output_type": "execute_result"
    },
    {
     "data": {
      "image/png": "[encoded data removed]",
      "text/plain": [
       "<Figure size 432x288 with 1 Axes>"
      ]
     },
     "metadata": {
      "needs_background": "light"
     },
     "output_type": "display_data"
    }
   ],
   "source": [
    "#Boxplot\n",
    "sns.boxplot(x=\"VALOREMPENHO\", data=data)"
   ]
  },
  {
   "cell_type": "code",
   "execution_count": 8,
   "id": "97d7010d",
   "metadata": {},
   "outputs": [
    {
     "data": {
      "text/plain": [
       "<AxesSubplot:xlabel='VALOREMPENHO', ylabel='Count'>"
      ]
     },
     "execution_count": 8,
     "metadata": {},
     "output_type": "execute_result"
    },
    {
     "data": {
      "image/png": "[encoded data removed]",
      "text/plain": [
       "<Figure size 432x288 with 1 Axes>"
      ]
     },
     "metadata": {
      "needs_background": "light"
     },
     "output_type": "display_data"
    }
   ],
   "source": [
    "#Histograma com Densidade\n",
    "sns.histplot(x=\"VALOREMPENHO\", data=data, kde=True)"
   ]
  },
  {
   "cell_type": "markdown",
   "id": "55f751c9",
   "metadata": {},
   "source": [
    "#### Verificar relação entre Pib e Valor de empenho\n",
    "<p>Verificar como age sobre os municipios o pib e o valor de empenho, e se estes possuem algum relacionamento.</p>"
   ]
  },
  {
   "cell_type": "code",
   "execution_count": 9,
   "id": "3efaa443",
   "metadata": {},
   "outputs": [],
   "source": [
    "#Filtra os 5 maiores e 5 menores pib\n",
    "cinco_maiores_pib = data.sort_values(by=\"PIB\", ascending=False)[:5]\n",
    "cinco_menores_pib = data.sort_values(by=\"PIB\", ascending=True)[:5]"
   ]
  },
  {
   "cell_type": "code",
   "execution_count": 10,
   "id": "741a63f8",
   "metadata": {},
   "outputs": [
    {
     "data": {
      "text/plain": [
       "<seaborn.axisgrid.PairGrid at 0x1b2fa957250>"
      ]
     },
     "execution_count": 10,
     "metadata": {},
     "output_type": "execute_result"
    },
    {
     "data": {
      "image/png": "[encoded data removed]",
      "text/plain": [
       "<Figure size 360x180 with 2 Axes>"
      ]
     },
     "metadata": {
      "needs_background": "light"
     },
     "output_type": "display_data"
    }
   ],
   "source": [
    "#Gráfico de Barras para Pib e Valor de Empenho nos 5 maiores Pib\n",
    "group_maiores = sns.PairGrid(cinco_maiores_pib, y_vars=[\"MUNICIPIO\"], x_vars=[\"PIB\", \"VALOREMPENHO\"])\n",
    "group_maiores.map(sns.barplot)"
   ]
  },
  {
   "cell_type": "code",
   "execution_count": 11,
   "id": "43bb20a4",
   "metadata": {},
   "outputs": [
    {
     "data": {
      "text/plain": [
       "<seaborn.axisgrid.PairGrid at 0x1b2faac5430>"
      ]
     },
     "execution_count": 11,
     "metadata": {},
     "output_type": "execute_result"
    },
    {
     "data": {
      "image/png": "[encoded data removed]",
      "text/plain": [
       "<Figure size 360x180 with 2 Axes>"
      ]
     },
     "metadata": {
      "needs_background": "light"
     },
     "output_type": "display_data"
    }
   ],
   "source": [
    "#Gráfico de Barras para Pib e Valor de Empenho nos 5 menores Pib\n",
    "group_menores = sns.PairGrid(cinco_menores_pib, y_vars=[\"MUNICIPIO\"], x_vars=[\"PIB\", \"VALOREMPENHO\"])\n",
    "group_menores.map(sns.barplot)"
   ]
  },
  {
   "cell_type": "code",
   "execution_count": 12,
   "id": "0aff9b0b",
   "metadata": {},
   "outputs": [
    {
     "data": {
      "text/plain": [
       "<seaborn.axisgrid.FacetGrid at 0x1b2fa9e0f10>"
      ]
     },
     "execution_count": 12,
     "metadata": {},
     "output_type": "execute_result"
    },
    {
     "data": {
      "image/png": "[encoded data removed]",
      "text/plain": [
       "<Figure size 360x360 with 1 Axes>"
      ]
     },
     "metadata": {
      "needs_background": "light"
     },
     "output_type": "display_data"
    }
   ],
   "source": [
    "#Gráfico de Dispersão para verificar a relação entre o pib e o valor de empenho.\n",
    "sns.relplot(x=\"PIB\", y=\"VALOREMPENHO\", data=data)"
   ]
  }
 ],
 "metadata": {
  "kernelspec": {
   "display_name": "Python 3",
   "language": "python",
   "name": "python3"
  },
  "language_info": {
   "codemirror_mode": {
    "name": "ipython",
    "version": 3
   },
   "file_extension": ".py",
   "mimetype": "text/x-python",
   "name": "python",
   "nbconvert_exporter": "python",
   "pygments_lexer": "ipython3",
   "version": "3.8.8"
  }
 },
 "nbformat": 4,
 "nbformat_minor": 5
}
